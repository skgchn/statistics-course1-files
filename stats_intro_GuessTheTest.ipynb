{
 "cells": [
  {
   "cell_type": "markdown",
   "metadata": {},
   "source": [
    "# COURSE: Master statistics and machine learning: Intuition, Math, code\n",
    "##### COURSE URL: udemy.com/master-stats-ml/?couponcode=202006\n",
    "## SECTION: Introduction\n",
    "### VIDEO: Statistics guessing game!\n",
    "#### TEACHER: Mike X Cohen, sincxpress.com"
   ]
  },
  {
   "cell_type": "code",
   "execution_count": 1,
   "metadata": {},
   "outputs": [],
   "source": [
    "# import libraries\n",
    "import matplotlib.pyplot as plt\n",
    "import numpy as np\n",
    "import scipy.stats as stats"
   ]
  },
  {
   "cell_type": "code",
   "execution_count": 2,
   "metadata": {},
   "outputs": [],
   "source": [
    "## this section is for parameters that you can specify\n",
    "\n",
    "# specify the averages of the two groups\n",
    "average_group1 = 42\n",
    "average_group2 = 40\n",
    "\n",
    "# the amount of individual variability (same value for both groups)\n",
    "standard_deviation = 1.0\n",
    "\n",
    "# sample sizes for each group\n",
    "samples_group1 = 40\n",
    "samples_group2 = 45"
   ]
  },
  {
   "cell_type": "markdown",
   "metadata": {},
   "source": [
    "You don't need to change the code below here!\n",
    "\n",
    "Although you are welcome to if you like ;)\n"
   ]
  },
  {
   "cell_type": "code",
   "execution_count": 3,
   "metadata": {},
   "outputs": [],
   "source": [
    "# this section generates the data (don't need to modify)\n",
    "\n",
    "# generate the data\n",
    "data_group1 = np.random.randn(samples_group1)*standard_deviation + average_group1\n",
    "data_group2 = np.random.randn(samples_group2)*standard_deviation + average_group2\n",
    "\n",
    "# convenient collection of sample sizes\n",
    "ns = [ samples_group1, samples_group2 ]\n",
    "\n",
    "datalims = [np.min(np.hstack((data_group1,data_group2))), np.max(np.hstack((data_group1,data_group2)))]"
   ]
  },
  {
   "cell_type": "code",
   "execution_count": 4,
   "metadata": {},
   "outputs": [
    {
     "data": {
      "image/png": "[encoded data removed]",
      "text/plain": [
       "<Figure size 432x288 with 2 Axes>"
      ]
     },
     "metadata": {
      "needs_background": "light"
     },
     "output_type": "display_data"
    }
   ],
   "source": [
    "## this section is for data visualization (don't need to modify)\n",
    "\n",
    "fig,ax = plt.subplots(1,2,figsize=(6,4))\n",
    "\n",
    "ax[0].violinplot(data_group1)\n",
    "ax[0].plot(1+np.random.randn(samples_group1)/10,data_group1,'ko')\n",
    "ax[0].set_ylim(datalims)\n",
    "ax[0].axis('off')\n",
    "\n",
    "ax[1].violinplot(data_group2)\n",
    "ax[1].plot(1+np.random.randn(samples_group2)/10,data_group2,'ko')\n",
    "ax[1].set_ylim(datalims)\n",
    "ax[1].axis('off')\n",
    "\n",
    "\n",
    "# 2-group t-test\n",
    "t,p = stats.ttest_ind(data_group1,data_group2)\n",
    "\n",
    "# print the information to the title\n",
    "sigtxt = ('',' NOT')\n",
    "plt.title('The two groups are%s significantly different! t(%g)=%g, p=%g'%(sigtxt[int(p>.05)],sum(ns)-2,np.round(t,2),np.round(p,3)))\n",
    "\n",
    "plt.show()"
   ]
  }
 ],
 "metadata": {
  "kernelspec": {
   "display_name": "Python 3",
   "language": "python",
   "name": "python3"
  },
  "language_info": {
   "codemirror_mode": {
    "name": "ipython",
    "version": 3
   },
   "file_extension": ".py",
   "mimetype": "text/x-python",
   "name": "python",
   "nbconvert_exporter": "python",
   "pygments_lexer": "ipython3",
   "version": "3.8.8"
  }
 },
 "nbformat": 4,
 "nbformat_minor": 2
}
