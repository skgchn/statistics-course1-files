{
 "cells": [
  {
   "cell_type": "code",
   "execution_count": 1,
   "id": "a1c5b4b9",
   "metadata": {},
   "outputs": [],
   "source": [
    "# import libraries\n",
    "import matplotlib.pyplot as plt\n",
    "import numpy as np\n",
    "import pandas as pd\n",
    "import seaborn as sns"
   ]
  },
  {
   "cell_type": "code",
   "execution_count": 2,
   "id": "c95c7cc6",
   "metadata": {},
   "outputs": [
    {
     "data": {
      "text/plain": [
       "array([[ -819.46276711,   332.27653749],\n",
       "       [-1188.24460717,   902.94355902],\n",
       "       [ -757.94190657,   770.1177388 ],\n",
       "       [   96.69102943,   801.19966979],\n",
       "       [  894.24343591,   841.0324107 ],\n",
       "       [  644.07966119,   986.06489415],\n",
       "       [ -997.16871386,   587.94748918],\n",
       "       [  706.82780289,   956.18516014],\n",
       "       [  407.00606269,   725.42428246],\n",
       "       [   49.10846131,   962.48925024],\n",
       "       [ -671.27612245,   783.83846017],\n",
       "       [  646.93831512,   398.07383828],\n",
       "       [ 1254.96217083,   907.89768276],\n",
       "       [  292.22291991,   268.86402817],\n",
       "       [ 1012.29172191,   487.15435049],\n",
       "       [-1453.12504967,   859.36173793],\n",
       "       [  398.77151662,   711.32901105],\n",
       "       [ -415.35556386,   215.15352084],\n",
       "       [ 2086.71968533,   582.63019953],\n",
       "       [ -854.66135303,   295.51773483],\n",
       "       [-2758.36551372,   217.54196538],\n",
       "       [ -356.03967666,   658.4735734 ],\n",
       "       [ -485.7480249 ,   133.02382586],\n",
       "       [-2418.77889216,   104.33483601],\n",
       "       [ 1135.22421834,   804.52197695],\n",
       "       [ -287.4734128 ,   708.6936645 ],\n",
       "       [ 1082.41853066,   120.68098305],\n",
       "       [-2394.51219917,   528.70003803],\n",
       "       [  452.08607062,   252.03302661],\n",
       "       [  271.62296694,   932.54540269]])"
      ]
     },
     "execution_count": 2,
     "metadata": {},
     "output_type": "execute_result"
    }
   ],
   "source": [
    "N = 30\n",
    "\n",
    "data1 = np.random.randn(N)\n",
    "data1\n",
    "data2 = np.random.rand(N)\n",
    "data2\n",
    "data = np.column_stack((data1, data2))\n",
    "data"
   ]
  },
  {
   "cell_type": "code",
   "execution_count": 3,
   "id": "32828fcc",
   "metadata": {},
   "outputs": [
    {
     "data": {
      "image/png": "[encoded data removed]",
      "text/plain": [
       "<Figure size 432x288 with 1 Axes>"
      ]
     },
     "metadata": {
      "needs_background": "light"
     },
     "output_type": "display_data"
    }
   ],
   "source": [
    "df = pd.DataFrame(data, columns=['one','two'])\n",
    "sns.boxplot(data=df,orient='v')\n",
    "plt.show()"
   ]
  },
  {
   "cell_type": "code",
   "execution_count": null,
   "id": "07f054b9",
   "metadata": {},
   "outputs": [],
   "source": []
  }
 ],
 "metadata": {
  "kernelspec": {
   "display_name": "Python 3",
   "language": "python",
   "name": "python3"
  },
  "language_info": {
   "codemirror_mode": {
    "name": "ipython",
    "version": 3
   },
   "file_extension": ".py",
   "mimetype": "text/x-python",
   "name": "python",
   "nbconvert_exporter": "python",
   "pygments_lexer": "ipython3",
   "version": "3.8.8"
  }
 },
 "nbformat": 4,
 "nbformat_minor": 5
}
