{
 "cells": [
  {
   "cell_type": "code",
   "execution_count": 1,
   "id": "9e23f327",
   "metadata": {},
   "outputs": [],
   "source": [
    "# import libraries\n",
    "import matplotlib.pyplot as plt\n",
    "import numpy as np\n",
    "import pandas as pd\n",
    "import seaborn as sns"
   ]
  },
  {
   "cell_type": "code",
   "execution_count": 2,
   "id": "bcd7bb57",
   "metadata": {},
   "outputs": [
    {
     "data": {
      "text/plain": [
       "array([[ 0.77491746,  0.5727538 ],\n",
       "       [ 0.78148128,  0.79467191],\n",
       "       [ 0.31050602,  0.36384237],\n",
       "       [-1.77358542,  0.22004883],\n",
       "       [-0.85960025,  0.32337147],\n",
       "       [ 1.31024342,  0.72851729],\n",
       "       [ 1.46027358,  0.01408004],\n",
       "       [ 0.40314981,  0.80401055],\n",
       "       [-0.39918299,  0.49353782],\n",
       "       [ 0.82782011,  0.40229008],\n",
       "       [ 0.08222136,  0.16504016],\n",
       "       [-0.52231919,  0.80948697],\n",
       "       [-1.06344749,  0.26251239],\n",
       "       [-2.61251843,  0.37932395],\n",
       "       [ 0.98370541,  0.36890231],\n",
       "       [-0.62340381,  0.39583613],\n",
       "       [-0.30365504,  0.82389914],\n",
       "       [-0.07009677,  0.66906258],\n",
       "       [ 0.17502621,  0.82128197],\n",
       "       [ 0.42532403,  0.33594342],\n",
       "       [-0.18759381,  0.95385639],\n",
       "       [ 1.84407182,  0.71302475],\n",
       "       [ 1.5504962 ,  0.51207149],\n",
       "       [ 0.06127068,  0.41199127],\n",
       "       [ 0.39501554,  0.25827615],\n",
       "       [ 0.41947402,  0.58940309],\n",
       "       [ 1.23045605,  0.60129461],\n",
       "       [-1.14376502,  0.58905514],\n",
       "       [ 0.11055793,  0.76076645],\n",
       "       [ 1.88658903,  0.49108757]])"
      ]
     },
     "execution_count": 2,
     "metadata": {},
     "output_type": "execute_result"
    }
   ],
   "source": [
    "N = 30\n",
    "\n",
    "data1 = np.random.randn(N)\n",
    "data1\n",
    "data2 = np.random.rand(N)\n",
    "data2\n",
    "data = np.column_stack((data1, data2))\n",
    "data"
   ]
  },
  {
   "cell_type": "code",
   "execution_count": 3,
   "id": "41d72205",
   "metadata": {},
   "outputs": [
    {
     "data": {
      "image/png": "[encoded data removed]",
      "text/plain": [
       "<Figure size 432x288 with 1 Axes>"
      ]
     },
     "metadata": {
      "needs_background": "light"
     },
     "output_type": "display_data"
    }
   ],
   "source": [
    "df = pd.DataFrame(data, columns=['one','two'])\n",
    "sns.boxplot(data=df,orient='v')\n",
    "plt.show()"
   ]
  },
  {
   "cell_type": "code",
   "execution_count": null,
   "id": "86903f7f",
   "metadata": {},
   "outputs": [],
   "source": []
  }
 ],
 "metadata": {
  "kernelspec": {
   "display_name": "Python 3",
   "language": "python",
   "name": "python3"
  },
  "language_info": {
   "codemirror_mode": {
    "name": "ipython",
    "version": 3
   },
   "file_extension": ".py",
   "mimetype": "text/x-python",
   "name": "python",
   "nbconvert_exporter": "python",
   "pygments_lexer": "ipython3",
   "version": "3.8.8"
  }
 },
 "nbformat": 4,
 "nbformat_minor": 5
}
